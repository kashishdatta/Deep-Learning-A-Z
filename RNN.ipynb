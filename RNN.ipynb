{
  "nbformat": 4,
  "nbformat_minor": 0,
  "metadata": {
    "colab": {
      "provenance": [],
      "authorship_tag": "ABX9TyOkoSxVI7vSU1SCOv3LsYpb",
      "include_colab_link": true
    },
    "kernelspec": {
      "name": "python3",
      "display_name": "Python 3"
    },
    "language_info": {
      "name": "python"
    }
  },
  "cells": [
    {
      "cell_type": "markdown",
      "metadata": {
        "id": "view-in-github",
        "colab_type": "text"
      },
      "source": [
        "<a href=\"https://colab.research.google.com/github/kashishdatta/Deep-Learning-A-Z/blob/main/RNN.ipynb\" target=\"_parent\"><img src=\"https://colab.research.google.com/assets/colab-badge.svg\" alt=\"Open In Colab\"/></a>"
      ]
    },
    {
      "cell_type": "markdown",
      "source": [
        "RECURRENT NEURAL NETWORK"
      ],
      "metadata": {
        "id": "UYxXW1TlG4Mf"
      }
    },
    {
      "cell_type": "markdown",
      "source": [
        "DATA PREPROCESSING"
      ],
      "metadata": {
        "id": "q5nzby4YG_6k"
      }
    },
    {
      "cell_type": "markdown",
      "source": [
        "Importing the libraries"
      ],
      "metadata": {
        "id": "wuWrbAJdHEqH"
      }
    },
    {
      "cell_type": "code",
      "execution_count": 1,
      "metadata": {
        "id": "25lRnSKvG2Gv"
      },
      "outputs": [],
      "source": [
        "import numpy as np\n",
        "import pandas as pd\n",
        "import matplotlib.pyplot as plt"
      ]
    },
    {
      "cell_type": "markdown",
      "source": [
        "Importing the training set"
      ],
      "metadata": {
        "id": "62_gOFdEI548"
      }
    },
    {
      "cell_type": "code",
      "source": [
        "dataset_train = pd.read_csv(\"Google_Stock_Price_Train.csv\")\n",
        "training_set = dataset_train.iloc[:, 1:2].values"
      ],
      "metadata": {
        "id": "kY_9sZBuI-dj"
      },
      "execution_count": 2,
      "outputs": []
    },
    {
      "cell_type": "markdown",
      "source": [
        "Feature Scaling"
      ],
      "metadata": {
        "id": "7KMtZnaQJcR9"
      }
    },
    {
      "cell_type": "code",
      "source": [
        "from sklearn.preprocessing import MinMaxScaler\n",
        "sc = MinMaxScaler(feature_range=(0,1))\n",
        "training_set_scaled = sc.fit_transform(training_set)"
      ],
      "metadata": {
        "id": "PIVEOhUDJfOJ"
      },
      "execution_count": 3,
      "outputs": []
    },
    {
      "cell_type": "markdown",
      "source": [
        "Creating a Data Structure with 60 Timesteps and 1 Output"
      ],
      "metadata": {
        "id": "NSHhq5yqLBV7"
      }
    },
    {
      "cell_type": "code",
      "source": [
        "X_train = []\n",
        "y_train = []\n",
        "for i in range(60, 1258):\n",
        "  X_train.append(training_set_scaled[i-60:i, 0])\n",
        "  y_train.append(training_set_scaled[i,0])\n",
        "X_train, y_train = np.array(X_train), np.array(y_train)"
      ],
      "metadata": {
        "id": "bV4MuGugLHtn"
      },
      "execution_count": 4,
      "outputs": []
    },
    {
      "cell_type": "markdown",
      "source": [
        "Reshaping"
      ],
      "metadata": {
        "id": "0g0BDs-tMTcf"
      }
    },
    {
      "cell_type": "code",
      "source": [
        "X_train = np.reshape(X_train, (X_train.shape[0], X_train.shape[1], 1))"
      ],
      "metadata": {
        "id": "qG0pAUaCMVRb"
      },
      "execution_count": 5,
      "outputs": []
    },
    {
      "cell_type": "markdown",
      "source": [
        "BUILDING AND TRAINING THE RNN"
      ],
      "metadata": {
        "id": "kvrW1dVCMwUD"
      }
    },
    {
      "cell_type": "markdown",
      "source": [
        "Importing the Keras libraries and packages"
      ],
      "metadata": {
        "id": "b84F4u3wMwc-"
      }
    },
    {
      "cell_type": "code",
      "source": [
        "from keras.models import Sequential\n",
        "from keras.layers import Dense\n",
        "from keras.layers import LSTM\n",
        "from keras.layers import Dropout"
      ],
      "metadata": {
        "id": "AbupDohzM7dZ"
      },
      "execution_count": 6,
      "outputs": []
    },
    {
      "cell_type": "markdown",
      "source": [
        "Initializing the RNN"
      ],
      "metadata": {
        "id": "jneQoly6Pua-"
      }
    },
    {
      "cell_type": "code",
      "source": [
        "regressor = Sequential()"
      ],
      "metadata": {
        "id": "SYiObCxMPyrD"
      },
      "execution_count": 7,
      "outputs": []
    },
    {
      "cell_type": "markdown",
      "source": [
        "Adding the First LSTM layer and some Dropout Regularisation"
      ],
      "metadata": {
        "id": "uWMCR8x3P7c-"
      }
    },
    {
      "cell_type": "code",
      "source": [
        "regressor.add(LSTM(units = 50, return_sequences = True, input_shape = (X_train.shape[1], 1)))\n",
        "regressor.add(Dropout(0.2))"
      ],
      "metadata": {
        "id": "EEMTVLOuQC-p"
      },
      "execution_count": 10,
      "outputs": []
    },
    {
      "cell_type": "markdown",
      "source": [
        "Adding the Second LSTM layer and some Dropout Regularisation"
      ],
      "metadata": {
        "id": "7JTqnmWsQ0lj"
      }
    },
    {
      "cell_type": "code",
      "source": [
        "regressor.add(LSTM(units = 50, return_sequences = True))\n",
        "regressor.add(Dropout(0.2))"
      ],
      "metadata": {
        "id": "S_frtxNAQxw2"
      },
      "execution_count": 11,
      "outputs": []
    },
    {
      "cell_type": "markdown",
      "source": [
        "Adding the Third LSTM layer and some Dropout Regularisation"
      ],
      "metadata": {
        "id": "-jyX-Y0NRAgn"
      }
    },
    {
      "cell_type": "code",
      "source": [
        "regressor.add(LSTM(units = 50, return_sequences = True))\n",
        "regressor.add(Dropout(0.2))"
      ],
      "metadata": {
        "id": "qcCYMtsmRAy3"
      },
      "execution_count": 12,
      "outputs": []
    },
    {
      "cell_type": "markdown",
      "source": [
        "Adding the Fourth LSTM layer and some Dropout Regularisation"
      ],
      "metadata": {
        "id": "VKbe66L7RKrO"
      }
    },
    {
      "cell_type": "code",
      "source": [
        "regressor.add(LSTM(units = 50))\n",
        "regressor.add(Dropout(0.2))"
      ],
      "metadata": {
        "id": "EHZNtkoaRK4W"
      },
      "execution_count": 13,
      "outputs": []
    },
    {
      "cell_type": "markdown",
      "source": [
        "Adding the Output Layer"
      ],
      "metadata": {
        "id": "X2WlfJ68RXbg"
      }
    },
    {
      "cell_type": "code",
      "source": [
        "regressor.add(Dense(units=1))"
      ],
      "metadata": {
        "id": "jB-RSZXvRXu7"
      },
      "execution_count": 14,
      "outputs": []
    },
    {
      "cell_type": "markdown",
      "source": [
        "Compiling the RNN"
      ],
      "metadata": {
        "id": "cKvhfBehRk6n"
      }
    },
    {
      "cell_type": "code",
      "source": [
        "regressor.compile(optimizer='adam', loss='mean_squared_error')"
      ],
      "metadata": {
        "id": "42LzGZV2RlHl"
      },
      "execution_count": 15,
      "outputs": []
    },
    {
      "cell_type": "markdown",
      "source": [
        "Fitting the RNN to the Training Set"
      ],
      "metadata": {
        "id": "HOQKmGUcR3Th"
      }
    },
    {
      "cell_type": "code",
      "source": [
        "regressor.fit(X_train, y_train, epochs=100, batch_size=32)"
      ],
      "metadata": {
        "colab": {
          "base_uri": "https://localhost:8080/"
        },
        "id": "q4oYkKTzR3iw",
        "outputId": "5c4643d7-b7ce-4974-fd2c-980cea5515a8"
      },
      "execution_count": 17,
      "outputs": [
        {
          "output_type": "stream",
          "name": "stdout",
          "text": [
            "Epoch 1/100\n",
            "38/38 [==============================] - 16s 148ms/step - loss: 0.0444\n",
            "Epoch 2/100\n",
            "38/38 [==============================] - 6s 146ms/step - loss: 0.0067\n",
            "Epoch 3/100\n",
            "38/38 [==============================] - 5s 145ms/step - loss: 0.0070\n",
            "Epoch 4/100\n",
            "38/38 [==============================] - 5s 144ms/step - loss: 0.0057\n",
            "Epoch 5/100\n",
            "38/38 [==============================] - 5s 142ms/step - loss: 0.0055\n",
            "Epoch 6/100\n",
            "38/38 [==============================] - 5s 143ms/step - loss: 0.0053\n",
            "Epoch 7/100\n",
            "38/38 [==============================] - 5s 143ms/step - loss: 0.0052\n",
            "Epoch 8/100\n",
            "38/38 [==============================] - 6s 145ms/step - loss: 0.0051\n",
            "Epoch 9/100\n",
            "38/38 [==============================] - 6s 146ms/step - loss: 0.0047\n",
            "Epoch 10/100\n",
            "38/38 [==============================] - 6s 146ms/step - loss: 0.0041\n",
            "Epoch 11/100\n",
            "38/38 [==============================] - 6s 161ms/step - loss: 0.0047\n",
            "Epoch 12/100\n",
            "38/38 [==============================] - 6s 148ms/step - loss: 0.0041\n",
            "Epoch 13/100\n",
            "38/38 [==============================] - 6s 146ms/step - loss: 0.0040\n",
            "Epoch 14/100\n",
            "38/38 [==============================] - 5s 144ms/step - loss: 0.0040\n",
            "Epoch 15/100\n",
            "38/38 [==============================] - 6s 145ms/step - loss: 0.0040\n",
            "Epoch 16/100\n",
            "38/38 [==============================] - 6s 148ms/step - loss: 0.0041\n",
            "Epoch 17/100\n",
            "38/38 [==============================] - 6s 146ms/step - loss: 0.0040\n",
            "Epoch 18/100\n",
            "38/38 [==============================] - 6s 148ms/step - loss: 0.0037\n",
            "Epoch 19/100\n",
            "38/38 [==============================] - 6s 149ms/step - loss: 0.0038\n",
            "Epoch 20/100\n",
            "38/38 [==============================] - 9s 235ms/step - loss: 0.0043\n",
            "Epoch 21/100\n",
            "38/38 [==============================] - 6s 147ms/step - loss: 0.0049\n",
            "Epoch 22/100\n",
            "38/38 [==============================] - 6s 147ms/step - loss: 0.0038\n",
            "Epoch 23/100\n",
            "38/38 [==============================] - 6s 148ms/step - loss: 0.0037\n",
            "Epoch 24/100\n",
            "38/38 [==============================] - 6s 148ms/step - loss: 0.0032\n",
            "Epoch 25/100\n",
            "38/38 [==============================] - 6s 146ms/step - loss: 0.0031\n",
            "Epoch 26/100\n",
            "38/38 [==============================] - 6s 147ms/step - loss: 0.0029\n",
            "Epoch 27/100\n",
            "38/38 [==============================] - 6s 145ms/step - loss: 0.0031\n",
            "Epoch 28/100\n",
            "38/38 [==============================] - 6s 146ms/step - loss: 0.0029\n",
            "Epoch 29/100\n",
            "38/38 [==============================] - 6s 149ms/step - loss: 0.0035\n",
            "Epoch 30/100\n",
            "38/38 [==============================] - 6s 150ms/step - loss: 0.0032\n",
            "Epoch 31/100\n",
            "38/38 [==============================] - 6s 147ms/step - loss: 0.0034\n",
            "Epoch 32/100\n",
            "38/38 [==============================] - 6s 147ms/step - loss: 0.0027\n",
            "Epoch 33/100\n",
            "38/38 [==============================] - 6s 148ms/step - loss: 0.0033\n",
            "Epoch 34/100\n",
            "38/38 [==============================] - 6s 147ms/step - loss: 0.0029\n",
            "Epoch 35/100\n",
            "38/38 [==============================] - 5s 143ms/step - loss: 0.0028\n",
            "Epoch 36/100\n",
            "38/38 [==============================] - 6s 146ms/step - loss: 0.0028\n",
            "Epoch 37/100\n",
            "38/38 [==============================] - 5s 145ms/step - loss: 0.0029\n",
            "Epoch 38/100\n",
            "38/38 [==============================] - 6s 146ms/step - loss: 0.0025\n",
            "Epoch 39/100\n",
            "38/38 [==============================] - 6s 145ms/step - loss: 0.0033\n",
            "Epoch 40/100\n",
            "38/38 [==============================] - 6s 145ms/step - loss: 0.0027\n",
            "Epoch 41/100\n",
            "38/38 [==============================] - 5s 144ms/step - loss: 0.0027\n",
            "Epoch 42/100\n",
            "38/38 [==============================] - 6s 145ms/step - loss: 0.0026\n",
            "Epoch 43/100\n",
            "38/38 [==============================] - 7s 173ms/step - loss: 0.0025\n",
            "Epoch 44/100\n",
            "38/38 [==============================] - 7s 173ms/step - loss: 0.0027\n",
            "Epoch 45/100\n",
            "38/38 [==============================] - 6s 146ms/step - loss: 0.0024\n",
            "Epoch 46/100\n",
            "38/38 [==============================] - 6s 145ms/step - loss: 0.0026\n",
            "Epoch 47/100\n",
            "38/38 [==============================] - 6s 148ms/step - loss: 0.0026\n",
            "Epoch 48/100\n",
            "38/38 [==============================] - 6s 145ms/step - loss: 0.0023\n",
            "Epoch 49/100\n",
            "38/38 [==============================] - 6s 147ms/step - loss: 0.0025\n",
            "Epoch 50/100\n",
            "38/38 [==============================] - 6s 148ms/step - loss: 0.0025\n",
            "Epoch 51/100\n",
            "38/38 [==============================] - 6s 146ms/step - loss: 0.0024\n",
            "Epoch 52/100\n",
            "38/38 [==============================] - 6s 147ms/step - loss: 0.0022\n",
            "Epoch 53/100\n",
            "38/38 [==============================] - 5s 144ms/step - loss: 0.0024\n",
            "Epoch 54/100\n",
            "38/38 [==============================] - 5s 143ms/step - loss: 0.0024\n",
            "Epoch 55/100\n",
            "38/38 [==============================] - 5s 143ms/step - loss: 0.0022\n",
            "Epoch 56/100\n",
            "38/38 [==============================] - 6s 146ms/step - loss: 0.0021\n",
            "Epoch 57/100\n",
            "38/38 [==============================] - 6s 147ms/step - loss: 0.0023\n",
            "Epoch 58/100\n",
            "38/38 [==============================] - 5s 144ms/step - loss: 0.0021\n",
            "Epoch 59/100\n",
            "38/38 [==============================] - 5s 143ms/step - loss: 0.0019\n",
            "Epoch 60/100\n",
            "38/38 [==============================] - 6s 147ms/step - loss: 0.0023\n",
            "Epoch 61/100\n",
            "38/38 [==============================] - 6s 147ms/step - loss: 0.0026\n",
            "Epoch 62/100\n",
            "38/38 [==============================] - 6s 150ms/step - loss: 0.0022\n",
            "Epoch 63/100\n",
            "38/38 [==============================] - 6s 145ms/step - loss: 0.0021\n",
            "Epoch 64/100\n",
            "38/38 [==============================] - 6s 146ms/step - loss: 0.0022\n",
            "Epoch 65/100\n",
            "38/38 [==============================] - 6s 145ms/step - loss: 0.0024\n",
            "Epoch 66/100\n",
            "38/38 [==============================] - 5s 143ms/step - loss: 0.0021\n",
            "Epoch 67/100\n",
            "38/38 [==============================] - 6s 164ms/step - loss: 0.0020\n",
            "Epoch 68/100\n",
            "38/38 [==============================] - 6s 160ms/step - loss: 0.0020\n",
            "Epoch 69/100\n",
            "38/38 [==============================] - 5s 143ms/step - loss: 0.0020\n",
            "Epoch 70/100\n",
            "38/38 [==============================] - 5s 143ms/step - loss: 0.0021\n",
            "Epoch 71/100\n",
            "38/38 [==============================] - 6s 146ms/step - loss: 0.0020\n",
            "Epoch 72/100\n",
            "38/38 [==============================] - 6s 147ms/step - loss: 0.0020\n",
            "Epoch 73/100\n",
            "38/38 [==============================] - 6s 149ms/step - loss: 0.0020\n",
            "Epoch 74/100\n",
            "38/38 [==============================] - 6s 148ms/step - loss: 0.0020\n",
            "Epoch 75/100\n",
            "38/38 [==============================] - 6s 148ms/step - loss: 0.0019\n",
            "Epoch 76/100\n",
            "38/38 [==============================] - 6s 149ms/step - loss: 0.0018\n",
            "Epoch 77/100\n",
            "38/38 [==============================] - 5s 144ms/step - loss: 0.0019\n",
            "Epoch 78/100\n",
            "38/38 [==============================] - 6s 149ms/step - loss: 0.0019\n",
            "Epoch 79/100\n",
            "38/38 [==============================] - 6s 148ms/step - loss: 0.0017\n",
            "Epoch 80/100\n",
            "38/38 [==============================] - 6s 146ms/step - loss: 0.0016\n",
            "Epoch 81/100\n",
            "38/38 [==============================] - 6s 145ms/step - loss: 0.0016\n",
            "Epoch 82/100\n",
            "38/38 [==============================] - 6s 145ms/step - loss: 0.0019\n",
            "Epoch 83/100\n",
            "38/38 [==============================] - 6s 147ms/step - loss: 0.0016\n",
            "Epoch 84/100\n",
            "38/38 [==============================] - 6s 147ms/step - loss: 0.0016\n",
            "Epoch 85/100\n",
            "38/38 [==============================] - 6s 146ms/step - loss: 0.0018\n",
            "Epoch 86/100\n",
            "38/38 [==============================] - 6s 147ms/step - loss: 0.0015\n",
            "Epoch 87/100\n",
            "38/38 [==============================] - 5s 144ms/step - loss: 0.0016\n",
            "Epoch 88/100\n",
            "38/38 [==============================] - 5s 144ms/step - loss: 0.0016\n",
            "Epoch 89/100\n",
            "38/38 [==============================] - 5s 143ms/step - loss: 0.0016\n",
            "Epoch 90/100\n",
            "38/38 [==============================] - 6s 149ms/step - loss: 0.0015\n",
            "Epoch 91/100\n",
            "38/38 [==============================] - 6s 165ms/step - loss: 0.0016\n",
            "Epoch 92/100\n",
            "38/38 [==============================] - 6s 160ms/step - loss: 0.0015\n",
            "Epoch 93/100\n",
            "38/38 [==============================] - 6s 158ms/step - loss: 0.0014\n",
            "Epoch 94/100\n",
            "38/38 [==============================] - 6s 149ms/step - loss: 0.0017\n",
            "Epoch 95/100\n",
            "38/38 [==============================] - 5s 144ms/step - loss: 0.0016\n",
            "Epoch 96/100\n",
            "38/38 [==============================] - 6s 146ms/step - loss: 0.0015\n",
            "Epoch 97/100\n",
            "38/38 [==============================] - 6s 148ms/step - loss: 0.0015\n",
            "Epoch 98/100\n",
            "38/38 [==============================] - 6s 145ms/step - loss: 0.0014\n",
            "Epoch 99/100\n",
            "38/38 [==============================] - 6s 148ms/step - loss: 0.0016\n",
            "Epoch 100/100\n",
            "38/38 [==============================] - 6s 146ms/step - loss: 0.0014\n"
          ]
        },
        {
          "output_type": "execute_result",
          "data": {
            "text/plain": [
              "<keras.callbacks.History at 0x7f6e00c0ed50>"
            ]
          },
          "metadata": {},
          "execution_count": 17
        }
      ]
    },
    {
      "cell_type": "markdown",
      "source": [
        "MAKING PREDICTIONS AND VISUALISING THE RESULTS"
      ],
      "metadata": {
        "id": "K7mmH-qVUqNJ"
      }
    },
    {
      "cell_type": "markdown",
      "source": [
        "Getting real stock prize of 2017"
      ],
      "metadata": {
        "id": "wzaR4BqaUweb"
      }
    },
    {
      "cell_type": "code",
      "source": [
        "dataset_test = pd.read_csv('Google_Stock_Price_Test.csv')\n",
        "real_stock_price = dataset_test.iloc[:, 1:2].values"
      ],
      "metadata": {
        "id": "T250W2QEUz0e"
      },
      "execution_count": 18,
      "outputs": []
    },
    {
      "cell_type": "markdown",
      "source": [
        "Getting the predicted stock price of 2017"
      ],
      "metadata": {
        "id": "mMwhzvyHU86v"
      }
    },
    {
      "cell_type": "code",
      "source": [
        "dataset_total = pd.concat((dataset_train['Open'], dataset_test['Open']), axis = 0)\n",
        "inputs = dataset_total[len(dataset_total) - len(dataset_test) - 60:].values\n",
        "inputs = inputs.reshape(-1,1)\n",
        "inputs = sc.transform(inputs)\n",
        "X_test = []\n",
        "for i in range(60, 80):\n",
        "    X_test.append(inputs[i-60:i, 0])\n",
        "X_test = np.array(X_test)\n",
        "X_test = np.reshape(X_test, (X_test.shape[0], X_test.shape[1], 1))\n",
        "predicted_stock_price = regressor.predict(X_test)\n",
        "predicted_stock_price = sc.inverse_transform(predicted_stock_price)"
      ],
      "metadata": {
        "id": "fenyg1RUVCFZ"
      },
      "execution_count": 19,
      "outputs": []
    },
    {
      "cell_type": "markdown",
      "source": [
        "Visualising the Results"
      ],
      "metadata": {
        "id": "lbKUSDFOVWbm"
      }
    },
    {
      "cell_type": "code",
      "source": [
        "plt.plot(real_stock_price, color = 'red', label = 'Real Google Stock Price')\n",
        "plt.plot(predicted_stock_price, color = 'blue', label = 'Predicted Google Stock Price')\n",
        "plt.title('Google Stock Price Prediction')\n",
        "plt.xlabel('Time')\n",
        "plt.ylabel('Google Stock Price')\n",
        "plt.legend()\n",
        "plt.show()"
      ],
      "metadata": {
        "colab": {
          "base_uri": "https://localhost:8080/",
          "height": 295
        },
        "id": "iRJwVmYQVZig",
        "outputId": "d3d2803d-d165-4821-898a-ea3197921eeb"
      },
      "execution_count": 20,
      "outputs": [
        {
          "output_type": "display_data",
          "data": {
            "text/plain": [
              "<Figure size 432x288 with 1 Axes>"
            ],
            "image/png": "[encoded data removed]"
          },
          "metadata": {
            "needs_background": "light"
          }
        }
      ]
    }
  ]
}