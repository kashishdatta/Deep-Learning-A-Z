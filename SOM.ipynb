{
  "nbformat": 4,
  "nbformat_minor": 0,
  "metadata": {
    "colab": {
      "provenance": [],
      "authorship_tag": "ABX9TyMgE2TpVmZADQ6tlJgaCkwa",
      "include_colab_link": true
    },
    "kernelspec": {
      "name": "python3",
      "display_name": "Python 3"
    },
    "language_info": {
      "name": "python"
    }
  },
  "cells": [
    {
      "cell_type": "markdown",
      "metadata": {
        "id": "view-in-github",
        "colab_type": "text"
      },
      "source": [
        "<a href=\"https://colab.research.google.com/github/kashishdatta/Deep-Learning-A-Z/blob/main/SOM.ipynb\" target=\"_parent\"><img src=\"https://colab.research.google.com/assets/colab-badge.svg\" alt=\"Open In Colab\"/></a>"
      ]
    },
    {
      "cell_type": "markdown",
      "source": [
        "SELF ORGANISING MAPS"
      ],
      "metadata": {
        "id": "0BCLzfEYF6O8"
      }
    },
    {
      "cell_type": "markdown",
      "source": [
        "Importing the Libraries"
      ],
      "metadata": {
        "id": "mnYH5_GOUY1F"
      }
    },
    {
      "cell_type": "code",
      "source": [
        "import numpy as np\n",
        "import pandas as pd\n",
        "import matplotlib.pyplot as plt"
      ],
      "metadata": {
        "id": "wlaqWJC3Ufo1"
      },
      "execution_count": 4,
      "outputs": []
    },
    {
      "cell_type": "markdown",
      "source": [
        "Importing the Dataset"
      ],
      "metadata": {
        "id": "jO0vRtrPUrHJ"
      }
    },
    {
      "cell_type": "code",
      "source": [
        "dataset = pd.read_csv(\"Credit_Card_Applications.csv\")\n",
        "X = dataset.iloc[:, :-1].values\n",
        "y = dataset.iloc[:, -1].values"
      ],
      "metadata": {
        "id": "DijMqOFjUrVF"
      },
      "execution_count": 5,
      "outputs": []
    },
    {
      "cell_type": "markdown",
      "source": [
        "Feature Scaling"
      ],
      "metadata": {
        "id": "1bun038tVLYq"
      }
    },
    {
      "cell_type": "code",
      "source": [
        "from sklearn.preprocessing import MinMaxScaler\n",
        "sc = MinMaxScaler(feature_range=(0,1))\n",
        "X = sc.fit_transform(X)"
      ],
      "metadata": {
        "id": "PlP4L5JoVNd_"
      },
      "execution_count": 6,
      "outputs": []
    },
    {
      "cell_type": "markdown",
      "source": [
        "Training the SOM"
      ],
      "metadata": {
        "id": "LfSlbNooVsaa"
      }
    },
    {
      "cell_type": "code",
      "source": [
        "from minisom import MiniSom\n",
        "som = MiniSom(x = 10, y = 10, input_len=15, sigma=1.0, learning_rate=0.5)\n",
        "som.random_weights_init(X)\n",
        "som.train_random(X, num_iteration=100)"
      ],
      "metadata": {
        "id": "-PmUfdMFVuky"
      },
      "execution_count": 9,
      "outputs": []
    },
    {
      "cell_type": "markdown",
      "source": [
        "Visualizing the Results"
      ],
      "metadata": {
        "id": "S59BhNBgYEm7"
      }
    },
    {
      "cell_type": "code",
      "source": [
        "from pylab import bone, pcolor, colorbar, plot, show\n",
        "bone()\n",
        "pcolor(som.distance_map().T)\n",
        "colorbar()\n",
        "markers=['o', 's']\n",
        "colors=['r', 'g']\n",
        "for i, x in enumerate(X):\n",
        "  w = som.winner(x)\n",
        "  plot(w[0] + 0.5,\n",
        "       w[1] + 0.5,\n",
        "       markers[y[i]],\n",
        "       markeredgecolor = colors[y[i]],\n",
        "       markerfacecolor = 'None',\n",
        "       markersize = 10,\n",
        "       markeredgewidth = 2)\n",
        "show()"
      ],
      "metadata": {
        "colab": {
          "base_uri": "https://localhost:8080/",
          "height": 269
        },
        "id": "lBd-niuwYHcu",
        "outputId": "bc755f34-127f-48dd-d394-575209c15a3d"
      },
      "execution_count": 12,
      "outputs": [
        {
          "output_type": "display_data",
          "data": {
            "text/plain": [
              "<Figure size 432x288 with 2 Axes>"
            ],
            "image/png": "[encoded data removed]"
          },
          "metadata": {
            "needs_background": "light"
          }
        }
      ]
    },
    {
      "cell_type": "markdown",
      "source": [
        "Finding the Frauds"
      ],
      "metadata": {
        "id": "A5ipApLRabpU"
      }
    },
    {
      "cell_type": "code",
      "source": [
        "mappings = som.win_map(X)\n",
        "frauds = np.concatenate((mappings[(7,1)], mappings[(5,2)]), axis=0)\n",
        "frauds = sc.inverse_transform(frauds)"
      ],
      "metadata": {
        "id": "5k5Ro2bGaeYe"
      },
      "execution_count": 13,
      "outputs": []
    }
  ]
}