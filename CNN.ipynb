{
 "cells": [
  {
   "cell_type": "markdown",
   "metadata": {
    "id": "mSrEZ5XYs6r0"
   },
   "source": [
    "CONVULATIONAL NEURAL NETWORKS"
   ]
  },
  {
   "cell_type": "markdown",
   "metadata": {
    "id": "c35VqEJs2YgM"
   },
   "source": [
    "Importing the libraries"
   ]
  },
  {
   "cell_type": "code",
   "execution_count": 17,
   "metadata": {
    "id": "kug4oEI7s40H"
   },
   "outputs": [],
   "source": [
    "import tensorflow as tf\n",
    "from keras.preprocessing.image import ImageDataGenerator"
   ]
  },
  {
   "cell_type": "code",
   "execution_count": 33,
   "metadata": {},
   "outputs": [
    {
     "data": {
      "text/plain": [
       "'2.9.1'"
      ]
     },
     "execution_count": 33,
     "metadata": {},
     "output_type": "execute_result"
    }
   ],
   "source": [
    "tf.__version__"
   ]
  },
  {
   "cell_type": "markdown",
   "metadata": {
    "id": "weLjy-Ag3DqK"
   },
   "source": [
    "DATA PREPROCESSING"
   ]
  },
  {
   "cell_type": "markdown",
   "metadata": {
    "id": "eeJ0VIIK3RsN"
   },
   "source": [
    "Preprocessing the Training Set"
   ]
  },
  {
   "cell_type": "code",
   "execution_count": 18,
   "metadata": {
    "id": "PAL622JA3NOx"
   },
   "outputs": [
    {
     "name": "stdout",
     "output_type": "stream",
     "text": [
      "Found 8000 images belonging to 2 classes.\n"
     ]
    }
   ],
   "source": [
    "train_datagen = ImageDataGenerator(rescale = 1./255,\n",
    "                                   shear_range = 0.2,\n",
    "                                   zoom_range = 0.2,\n",
    "                                   horizontal_flip = True)\n",
    "training_set = train_datagen.flow_from_directory('dataset/training_set',\n",
    "                                                 target_size = (64, 64),\n",
    "                                                 batch_size = 32,\n",
    "                                                 class_mode = 'binary')"
   ]
  },
  {
   "cell_type": "markdown",
   "metadata": {
    "id": "R65pGnnh4nw6"
   },
   "source": [
    "Preprocessing the Test Set"
   ]
  },
  {
   "cell_type": "code",
   "execution_count": 19,
   "metadata": {
    "id": "lfprnTs544cu"
   },
   "outputs": [
    {
     "name": "stdout",
     "output_type": "stream",
     "text": [
      "Found 2000 images belonging to 2 classes.\n"
     ]
    }
   ],
   "source": [
    "test_datagen = ImageDataGenerator(rescale = 1./255)\n",
    "test_set = test_datagen.flow_from_directory('dataset/test_set',\n",
    "                                            target_size = (64, 64),\n",
    "                                            batch_size = 32,\n",
    "                                            class_mode = 'binary')"
   ]
  },
  {
   "cell_type": "markdown",
   "metadata": {
    "id": "S6af_b7v5RzE"
   },
   "source": [
    "BUILDING THE CNN"
   ]
  },
  {
   "cell_type": "markdown",
   "metadata": {
    "id": "xpCodtWN5clD"
   },
   "source": [
    "Initialising the CNN"
   ]
  },
  {
   "cell_type": "code",
   "execution_count": 20,
   "metadata": {
    "id": "Ac1JR9WB5TPH"
   },
   "outputs": [],
   "source": [
    "cnn = tf.keras.models.Sequential()"
   ]
  },
  {
   "cell_type": "markdown",
   "metadata": {
    "id": "l1klyYaR5oWH"
   },
   "source": [
    "Convulation"
   ]
  },
  {
   "cell_type": "code",
   "execution_count": 21,
   "metadata": {
    "id": "5Xu6of0a5uXm"
   },
   "outputs": [],
   "source": [
    "cnn.add(tf.keras.layers.Conv2D(filters=32, kernel_size=3, activation='relu', input_shape=[64, 64, 3]))"
   ]
  },
  {
   "cell_type": "markdown",
   "metadata": {
    "id": "Nhv1pXuc6R2R"
   },
   "source": [
    "Pooling"
   ]
  },
  {
   "cell_type": "code",
   "execution_count": 22,
   "metadata": {
    "id": "UtVuSq4r6S1d"
   },
   "outputs": [],
   "source": [
    "cnn.add(tf.keras.layers.MaxPool2D(pool_size=(2, 2), strides=2))"
   ]
  },
  {
   "cell_type": "markdown",
   "metadata": {
    "id": "W9-Bofh16rwH"
   },
   "source": [
    "Adding second convulational layer"
   ]
  },
  {
   "cell_type": "code",
   "execution_count": 23,
   "metadata": {
    "id": "APPpHowN6v__"
   },
   "outputs": [],
   "source": [
    "cnn.add(tf.keras.layers.Conv2D(filters=32, kernel_size=3, activation='relu'))\n",
    "cnn.add(tf.keras.layers.MaxPool2D(pool_size=(2, 2), strides=2))"
   ]
  },
  {
   "cell_type": "markdown",
   "metadata": {
    "id": "d43SSxWK67xY"
   },
   "source": [
    "Flattening"
   ]
  },
  {
   "cell_type": "code",
   "execution_count": 24,
   "metadata": {
    "id": "hkhLZY5G69eA"
   },
   "outputs": [],
   "source": [
    "cnn.add(tf.keras.layers.Flatten())"
   ]
  },
  {
   "cell_type": "markdown",
   "metadata": {
    "id": "QnsKFGXZ7KNk"
   },
   "source": [
    "Full Connection"
   ]
  },
  {
   "cell_type": "code",
   "execution_count": 25,
   "metadata": {
    "id": "CvZQhs4V7MTW"
   },
   "outputs": [],
   "source": [
    "cnn.add(tf.keras.layers.Dense(units=128, activation='relu'))"
   ]
  },
  {
   "cell_type": "markdown",
   "metadata": {
    "id": "KfwZvfAr7Yzp"
   },
   "source": [
    "Output Layer"
   ]
  },
  {
   "cell_type": "code",
   "execution_count": 26,
   "metadata": {
    "id": "ZqoOoeNf7ZCF"
   },
   "outputs": [],
   "source": [
    "cnn.add(tf.keras.layers.Dense(units=1, activation='sigmoid'))"
   ]
  },
  {
   "cell_type": "markdown",
   "metadata": {
    "id": "WO7nKxCX7iIo"
   },
   "source": [
    "TRAINING THE CNN"
   ]
  },
  {
   "cell_type": "markdown",
   "metadata": {
    "id": "ULseu4rW7mmB"
   },
   "source": [
    "Compiling the CNN"
   ]
  },
  {
   "cell_type": "code",
   "execution_count": 27,
   "metadata": {
    "id": "_0p_sIph7lrk"
   },
   "outputs": [],
   "source": [
    "cnn.compile(optimizer = 'adam', loss = 'binary_crossentropy', metrics = ['accuracy'])"
   ]
  },
  {
   "cell_type": "markdown",
   "metadata": {
    "id": "CCq7Ebj-73Hk"
   },
   "source": [
    "Training the CNN on the Training set and Evaluating on the Test set\n",
    "\n"
   ]
  },
  {
   "cell_type": "code",
   "execution_count": 28,
   "metadata": {
    "id": "NE6-O6QF8HWQ"
   },
   "outputs": [
    {
     "name": "stdout",
     "output_type": "stream",
     "text": [
      "Epoch 1/25\n",
      "250/250 [==============================] - 72s 281ms/step - loss: 0.6747 - accuracy: 0.5725 - val_loss: 0.6327 - val_accuracy: 0.6330\n",
      "Epoch 2/25\n",
      "250/250 [==============================] - 47s 188ms/step - loss: 0.5939 - accuracy: 0.6775 - val_loss: 0.6265 - val_accuracy: 0.6620\n",
      "Epoch 3/25\n",
      "250/250 [==============================] - 45s 181ms/step - loss: 0.5559 - accuracy: 0.7168 - val_loss: 0.5291 - val_accuracy: 0.7360\n",
      "Epoch 4/25\n",
      "250/250 [==============================] - 44s 174ms/step - loss: 0.5286 - accuracy: 0.7284 - val_loss: 0.5026 - val_accuracy: 0.7495\n",
      "Epoch 5/25\n",
      "250/250 [==============================] - 45s 180ms/step - loss: 0.4976 - accuracy: 0.7546 - val_loss: 0.4979 - val_accuracy: 0.7640\n",
      "Epoch 6/25\n",
      "250/250 [==============================] - 44s 174ms/step - loss: 0.4755 - accuracy: 0.7691 - val_loss: 0.4826 - val_accuracy: 0.7780\n",
      "Epoch 7/25\n",
      "250/250 [==============================] - 44s 174ms/step - loss: 0.4692 - accuracy: 0.7736 - val_loss: 0.4635 - val_accuracy: 0.7850\n",
      "Epoch 8/25\n",
      "250/250 [==============================] - 44s 175ms/step - loss: 0.4550 - accuracy: 0.7870 - val_loss: 0.4851 - val_accuracy: 0.7725\n",
      "Epoch 9/25\n",
      "250/250 [==============================] - 43s 173ms/step - loss: 0.4380 - accuracy: 0.7906 - val_loss: 0.4800 - val_accuracy: 0.7850\n",
      "Epoch 10/25\n",
      "250/250 [==============================] - 44s 174ms/step - loss: 0.4326 - accuracy: 0.7945 - val_loss: 0.4436 - val_accuracy: 0.8015\n",
      "Epoch 11/25\n",
      "250/250 [==============================] - 43s 174ms/step - loss: 0.4102 - accuracy: 0.8106 - val_loss: 0.5090 - val_accuracy: 0.7730\n",
      "Epoch 12/25\n",
      "250/250 [==============================] - 43s 173ms/step - loss: 0.4057 - accuracy: 0.8066 - val_loss: 0.4452 - val_accuracy: 0.7980\n",
      "Epoch 13/25\n",
      "250/250 [==============================] - 44s 175ms/step - loss: 0.4001 - accuracy: 0.8190 - val_loss: 0.4356 - val_accuracy: 0.8025\n",
      "Epoch 14/25\n",
      "250/250 [==============================] - 44s 174ms/step - loss: 0.3875 - accuracy: 0.8240 - val_loss: 0.4382 - val_accuracy: 0.8080\n",
      "Epoch 15/25\n",
      "250/250 [==============================] - 44s 176ms/step - loss: 0.3840 - accuracy: 0.8242 - val_loss: 0.4424 - val_accuracy: 0.8055\n",
      "Epoch 16/25\n",
      "250/250 [==============================] - 45s 178ms/step - loss: 0.3697 - accuracy: 0.8325 - val_loss: 0.4238 - val_accuracy: 0.8135\n",
      "Epoch 17/25\n",
      "250/250 [==============================] - 43s 174ms/step - loss: 0.3622 - accuracy: 0.8351 - val_loss: 0.4268 - val_accuracy: 0.8100\n",
      "Epoch 18/25\n",
      "250/250 [==============================] - 45s 178ms/step - loss: 0.3612 - accuracy: 0.8393 - val_loss: 0.4266 - val_accuracy: 0.8135\n",
      "Epoch 19/25\n",
      "250/250 [==============================] - 52s 207ms/step - loss: 0.3541 - accuracy: 0.8409 - val_loss: 0.4476 - val_accuracy: 0.8040\n",
      "Epoch 20/25\n",
      "250/250 [==============================] - 46s 184ms/step - loss: 0.3402 - accuracy: 0.8495 - val_loss: 0.4780 - val_accuracy: 0.8080\n",
      "Epoch 21/25\n",
      "250/250 [==============================] - 45s 178ms/step - loss: 0.3329 - accuracy: 0.8541 - val_loss: 0.4365 - val_accuracy: 0.8175\n",
      "Epoch 22/25\n",
      "250/250 [==============================] - 45s 179ms/step - loss: 0.3215 - accuracy: 0.8589 - val_loss: 0.4969 - val_accuracy: 0.7975\n",
      "Epoch 23/25\n",
      "250/250 [==============================] - 45s 181ms/step - loss: 0.3228 - accuracy: 0.8568 - val_loss: 0.4497 - val_accuracy: 0.8090\n",
      "Epoch 24/25\n",
      "250/250 [==============================] - 45s 179ms/step - loss: 0.3126 - accuracy: 0.8633 - val_loss: 0.4203 - val_accuracy: 0.8240\n",
      "Epoch 25/25\n",
      "250/250 [==============================] - 44s 176ms/step - loss: 0.2968 - accuracy: 0.8737 - val_loss: 0.4753 - val_accuracy: 0.8095\n"
     ]
    },
    {
     "data": {
      "text/plain": [
       "<keras.callbacks.History at 0x155055690>"
      ]
     },
     "execution_count": 28,
     "metadata": {},
     "output_type": "execute_result"
    }
   ],
   "source": [
    "cnn.fit(x = training_set, validation_data = test_set, epochs = 25)"
   ]
  },
  {
   "cell_type": "markdown",
   "metadata": {
    "id": "HBeFveJF8ViF"
   },
   "source": [
    "MAKING A SINGLE PREDICTION"
   ]
  },
  {
   "cell_type": "code",
   "execution_count": 38,
   "metadata": {
    "id": "vKJtalWN8fK2"
   },
   "outputs": [
    {
     "name": "stdout",
     "output_type": "stream",
     "text": [
      "1/1 [==============================] - 0s 27ms/step\n"
     ]
    }
   ],
   "source": [
    "import numpy as np\n",
    "from tensorflow.keras.utils import load_img, img_to_array \n",
    "test_image = tf.keras.utils.load_img('dataset/single_prediction/cat_or_dog_2.jpg', target_size = (64, 64))\n",
    "test_image = tf.keras.utils.img_to_array(test_image)\n",
    "test_image = np.expand_dims(test_image, axis = 0)\n",
    "result = cnn.predict(test_image)\n",
    "training_set.class_indices\n",
    "if result[0][0] == 1:\n",
    "  prediction = 'dog'\n",
    "else:\n",
    "  prediction = 'cat'"
   ]
  },
  {
   "cell_type": "code",
   "execution_count": 39,
   "metadata": {
    "id": "1Lns5U1w9P9S"
   },
   "outputs": [
    {
     "name": "stdout",
     "output_type": "stream",
     "text": [
      "cat\n"
     ]
    }
   ],
   "source": [
    "print(prediction)"
   ]
  },
  {
   "cell_type": "code",
   "execution_count": null,
   "metadata": {},
   "outputs": [],
   "source": []
  }
 ],
 "metadata": {
  "colab": {
   "name": "CNN.ipynb",
   "provenance": []
  },
  "kernelspec": {
   "display_name": "Python 3 (ipykernel)",
   "language": "python",
   "name": "python3"
  },
  "language_info": {
   "codemirror_mode": {
    "name": "ipython",
    "version": 3
   },
   "file_extension": ".py",
   "mimetype": "text/x-python",
   "name": "python",
   "nbconvert_exporter": "python",
   "pygments_lexer": "ipython3",
   "version": "3.10.1"
  }
 },
 "nbformat": 4,
 "nbformat_minor": 1
}
